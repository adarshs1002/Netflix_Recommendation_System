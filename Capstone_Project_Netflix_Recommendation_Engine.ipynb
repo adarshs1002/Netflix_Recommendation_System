{
 "cells": [
  {
   "cell_type": "markdown",
   "metadata": {
    "id": "m2zB11DVLnVX"
   },
   "source": [
    "# Importing Basic Libraries and Loading Data"
   ]
  },
  {
   "cell_type": "code",
   "execution_count": 1,
   "metadata": {
    "execution": {
     "iopub.execute_input": "2025-04-18T10:00:04.854480Z",
     "iopub.status.busy": "2025-04-18T10:00:04.854480Z",
     "iopub.status.idle": "2025-04-18T10:00:22.569389Z",
     "shell.execute_reply": "2025-04-18T10:00:22.568381Z",
     "shell.execute_reply.started": "2025-04-18T10:00:04.854480Z"
    },
    "id": "nQx74RgSLcpq"
   },
   "outputs": [],
   "source": [
    "import numpy as np\n",
    "import pandas as pd\n",
    "import matplotlib.pyplot as plt\n",
    "import seaborn as sns\n",
    "\n",
    "import warnings\n",
    "warnings.filterwarnings('ignore')"
   ]
  },
  {
   "cell_type": "code",
   "execution_count": 2,
   "metadata": {
    "execution": {
     "iopub.execute_input": "2025-04-18T10:00:22.571390Z",
     "iopub.status.busy": "2025-04-18T10:00:22.571390Z",
     "iopub.status.idle": "2025-04-18T10:00:34.695569Z",
     "shell.execute_reply": "2025-04-18T10:00:34.692549Z",
     "shell.execute_reply.started": "2025-04-18T10:00:22.571390Z"
    }
   },
   "outputs": [
    {
     "data": {
      "text/html": [
       "<div>\n",
       "<style scoped>\n",
       "    .dataframe tbody tr th:only-of-type {\n",
       "        vertical-align: middle;\n",
       "    }\n",
       "\n",
       "    .dataframe tbody tr th {\n",
       "        vertical-align: top;\n",
       "    }\n",
       "\n",
       "    .dataframe thead th {\n",
       "        text-align: right;\n",
       "    }\n",
       "</style>\n",
       "<table border=\"1\" class=\"dataframe\">\n",
       "  <thead>\n",
       "    <tr style=\"text-align: right;\">\n",
       "      <th></th>\n",
       "      <th>Customer_Id</th>\n",
       "      <th>Ratings</th>\n",
       "    </tr>\n",
       "  </thead>\n",
       "  <tbody>\n",
       "    <tr>\n",
       "      <th>0</th>\n",
       "      <td>1:</td>\n",
       "      <td>NaN</td>\n",
       "    </tr>\n",
       "    <tr>\n",
       "      <th>1</th>\n",
       "      <td>1488844</td>\n",
       "      <td>3.0</td>\n",
       "    </tr>\n",
       "    <tr>\n",
       "      <th>2</th>\n",
       "      <td>822109</td>\n",
       "      <td>5.0</td>\n",
       "    </tr>\n",
       "    <tr>\n",
       "      <th>3</th>\n",
       "      <td>885013</td>\n",
       "      <td>4.0</td>\n",
       "    </tr>\n",
       "    <tr>\n",
       "      <th>4</th>\n",
       "      <td>30878</td>\n",
       "      <td>4.0</td>\n",
       "    </tr>\n",
       "  </tbody>\n",
       "</table>\n",
       "</div>"
      ],
      "text/plain": [
       "  Customer_Id  Ratings\n",
       "0          1:      NaN\n",
       "1     1488844      3.0\n",
       "2      822109      5.0\n",
       "3      885013      4.0\n",
       "4       30878      4.0"
      ]
     },
     "execution_count": 2,
     "metadata": {},
     "output_type": "execute_result"
    }
   ],
   "source": [
    "netflix_df = pd.read_csv(r'C:\\Users\\adars\\EPG_Python_Intellipaat\\Project\\combined_data_1.txt', header=None, usecols=[0,1],names=['Customer_Id', 'Ratings'])\n",
    "netflix_df.head()"
   ]
  },
  {
   "cell_type": "markdown",
   "metadata": {},
   "source": [
    "### Data Cleaning and EDA"
   ]
  },
  {
   "cell_type": "code",
   "execution_count": 3,
   "metadata": {
    "execution": {
     "iopub.execute_input": "2025-04-18T10:00:34.701566Z",
     "iopub.status.busy": "2025-04-18T10:00:34.700572Z",
     "iopub.status.idle": "2025-04-18T10:00:34.913425Z",
     "shell.execute_reply": "2025-04-18T10:00:34.912414Z",
     "shell.execute_reply.started": "2025-04-18T10:00:34.701566Z"
    },
    "id": "aD8LPNHHNKh8"
   },
   "outputs": [],
   "source": [
    "netflix_df['Ratings'] = netflix_df['Ratings'].astype('float')"
   ]
  },
  {
   "cell_type": "code",
   "execution_count": 4,
   "metadata": {
    "colab": {
     "base_uri": "https://localhost:8080/"
    },
    "execution": {
     "iopub.execute_input": "2025-04-18T10:00:34.916425Z",
     "iopub.status.busy": "2025-04-18T10:00:34.914420Z",
     "iopub.status.idle": "2025-04-18T10:00:35.045402Z",
     "shell.execute_reply": "2025-04-18T10:00:35.044391Z",
     "shell.execute_reply.started": "2025-04-18T10:00:34.916425Z"
    },
    "id": "wXvD7QewNoCp",
    "outputId": "752bfc6c-5b7a-4cf1-a8b0-d522afcb7d65"
   },
   "outputs": [
    {
     "name": "stdout",
     "output_type": "stream",
     "text": [
      "<class 'pandas.core.frame.DataFrame'>\n",
      "RangeIndex: 24058263 entries, 0 to 24058262\n",
      "Data columns (total 2 columns):\n",
      " #   Column       Dtype  \n",
      "---  ------       -----  \n",
      " 0   Customer_Id  object \n",
      " 1   Ratings      float64\n",
      "dtypes: float64(1), object(1)\n",
      "memory usage: 367.1+ MB\n"
     ]
    }
   ],
   "source": [
    "netflix_df.info()"
   ]
  },
  {
   "cell_type": "code",
   "execution_count": 5,
   "metadata": {
    "colab": {
     "base_uri": "https://localhost:8080/",
     "height": 147
    },
    "execution": {
     "iopub.execute_input": "2025-04-18T10:00:35.046400Z",
     "iopub.status.busy": "2025-04-18T10:00:35.046400Z",
     "iopub.status.idle": "2025-04-18T10:00:36.123281Z",
     "shell.execute_reply": "2025-04-18T10:00:36.122271Z",
     "shell.execute_reply.started": "2025-04-18T10:00:35.046400Z"
    },
    "id": "HVKscxEENqXr",
    "outputId": "49280c67-8395-43b1-fd39-5d27fedc0c87"
   },
   "outputs": [
    {
     "data": {
      "text/plain": [
       "Customer_Id       0\n",
       "Ratings        4499\n",
       "dtype: int64"
      ]
     },
     "execution_count": 5,
     "metadata": {},
     "output_type": "execute_result"
    }
   ],
   "source": [
    "netflix_df.isna().sum()"
   ]
  },
  {
   "cell_type": "code",
   "execution_count": 6,
   "metadata": {
    "colab": {
     "base_uri": "https://localhost:8080/",
     "height": 458
    },
    "execution": {
     "iopub.execute_input": "2025-04-18T10:00:36.124281Z",
     "iopub.status.busy": "2025-04-18T10:00:36.123281Z",
     "iopub.status.idle": "2025-04-18T10:00:36.175679Z",
     "shell.execute_reply": "2025-04-18T10:00:36.174666Z",
     "shell.execute_reply.started": "2025-04-18T10:00:36.124281Z"
    },
    "id": "cmHLL2F8N5uF",
    "outputId": "9d7e41ff-ae0c-4b06-ea17-09a0ddb4e521"
   },
   "outputs": [
    {
     "data": {
      "text/plain": [
       "0              1:\n",
       "548            2:\n",
       "694            3:\n",
       "2707           4:\n",
       "2850           5:\n",
       "            ...  \n",
       "24046714    4495:\n",
       "24047329    4496:\n",
       "24056849    4497:\n",
       "24057564    4498:\n",
       "24057834    4499:\n",
       "Name: Customer_Id, Length: 4499, dtype: object"
      ]
     },
     "execution_count": 6,
     "metadata": {},
     "output_type": "execute_result"
    }
   ],
   "source": [
    "netflix_df[netflix_df['Ratings'].isna()]['Customer_Id']"
   ]
  },
  {
   "cell_type": "markdown",
   "metadata": {
    "execution": {
     "iopub.execute_input": "2025-04-18T09:11:31.552572Z",
     "iopub.status.busy": "2025-04-18T09:11:31.552572Z",
     "iopub.status.idle": "2025-04-18T09:11:31.653184Z",
     "shell.execute_reply": "2025-04-18T09:11:31.652176Z",
     "shell.execute_reply.started": "2025-04-18T09:11:31.552572Z"
    }
   },
   "source": [
    "> Each movie id, with ':' at end is associated with the NaN values in Ratings column"
   ]
  },
  {
   "cell_type": "code",
   "execution_count": 7,
   "metadata": {
    "colab": {
     "base_uri": "https://localhost:8080/",
     "height": 237
    },
    "execution": {
     "iopub.execute_input": "2025-04-18T10:00:36.176674Z",
     "iopub.status.busy": "2025-04-18T10:00:36.176674Z",
     "iopub.status.idle": "2025-04-18T10:00:36.753003Z",
     "shell.execute_reply": "2025-04-18T10:00:36.751995Z",
     "shell.execute_reply.started": "2025-04-18T10:00:36.176674Z"
    },
    "id": "oBhNrCsROCvO",
    "outputId": "31c16aed-fc60-41bd-b5bd-d3aaea88ba31"
   },
   "outputs": [
    {
     "data": {
      "text/html": [
       "<div>\n",
       "<style scoped>\n",
       "    .dataframe tbody tr th:only-of-type {\n",
       "        vertical-align: middle;\n",
       "    }\n",
       "\n",
       "    .dataframe tbody tr th {\n",
       "        vertical-align: top;\n",
       "    }\n",
       "\n",
       "    .dataframe thead th {\n",
       "        text-align: right;\n",
       "    }\n",
       "</style>\n",
       "<table border=\"1\" class=\"dataframe\">\n",
       "  <thead>\n",
       "    <tr style=\"text-align: right;\">\n",
       "      <th></th>\n",
       "      <th>count</th>\n",
       "    </tr>\n",
       "    <tr>\n",
       "      <th>Ratings</th>\n",
       "      <th></th>\n",
       "    </tr>\n",
       "  </thead>\n",
       "  <tbody>\n",
       "    <tr>\n",
       "      <th>1.0</th>\n",
       "      <td>1118186</td>\n",
       "    </tr>\n",
       "    <tr>\n",
       "      <th>2.0</th>\n",
       "      <td>2439073</td>\n",
       "    </tr>\n",
       "    <tr>\n",
       "      <th>3.0</th>\n",
       "      <td>6904181</td>\n",
       "    </tr>\n",
       "    <tr>\n",
       "      <th>4.0</th>\n",
       "      <td>8085741</td>\n",
       "    </tr>\n",
       "    <tr>\n",
       "      <th>5.0</th>\n",
       "      <td>5506583</td>\n",
       "    </tr>\n",
       "  </tbody>\n",
       "</table>\n",
       "</div>"
      ],
      "text/plain": [
       "           count\n",
       "Ratings         \n",
       "1.0      1118186\n",
       "2.0      2439073\n",
       "3.0      6904181\n",
       "4.0      8085741\n",
       "5.0      5506583"
      ]
     },
     "execution_count": 7,
     "metadata": {},
     "output_type": "execute_result"
    }
   ],
   "source": [
    "#To find the distribution of different ratings in the dataset\n",
    "df_ratings = netflix_df.groupby('Ratings')['Ratings'].agg(['count'])\n",
    "df_ratings"
   ]
  },
  {
   "cell_type": "code",
   "execution_count": 8,
   "metadata": {
    "colab": {
     "base_uri": "https://localhost:8080/"
    },
    "execution": {
     "iopub.execute_input": "2025-04-18T10:00:36.756002Z",
     "iopub.status.busy": "2025-04-18T10:00:36.756002Z",
     "iopub.status.idle": "2025-04-18T10:00:37.702533Z",
     "shell.execute_reply": "2025-04-18T10:00:37.702023Z",
     "shell.execute_reply.started": "2025-04-18T10:00:36.756002Z"
    },
    "id": "qlNTZZAWOh3V",
    "outputId": "b0459fde-c38f-4ffb-a472-98c07e6436e2"
   },
   "outputs": [
    {
     "data": {
      "text/plain": [
       "4499"
      ]
     },
     "execution_count": 8,
     "metadata": {},
     "output_type": "execute_result"
    }
   ],
   "source": [
    "# The total number of movies in the dataset\n",
    "movie_count = netflix_df.isnull().sum().sum()\n",
    "movie_count"
   ]
  },
  {
   "cell_type": "code",
   "execution_count": 9,
   "metadata": {
    "colab": {
     "base_uri": "https://localhost:8080/"
    },
    "execution": {
     "iopub.execute_input": "2025-04-18T10:00:37.703578Z",
     "iopub.status.busy": "2025-04-18T10:00:37.702533Z",
     "iopub.status.idle": "2025-04-18T10:00:42.240766Z",
     "shell.execute_reply": "2025-04-18T10:00:42.239751Z",
     "shell.execute_reply.started": "2025-04-18T10:00:37.703578Z"
    },
    "id": "FA8tZ6U8PKsR",
    "outputId": "a6ce074c-31e9-4339-a2d4-2f10c9728bff"
   },
   "outputs": [
    {
     "data": {
      "text/plain": [
       "470758"
      ]
     },
     "execution_count": 9,
     "metadata": {},
     "output_type": "execute_result"
    }
   ],
   "source": [
    "# Customer count\n",
    "cust_count = netflix_df['Customer_Id'].nunique()-movie_count\n",
    "cust_count"
   ]
  },
  {
   "cell_type": "code",
   "execution_count": 10,
   "metadata": {
    "colab": {
     "base_uri": "https://localhost:8080/"
    },
    "execution": {
     "iopub.execute_input": "2025-04-18T10:00:42.242766Z",
     "iopub.status.busy": "2025-04-18T10:00:42.242766Z",
     "iopub.status.idle": "2025-04-18T10:00:42.250852Z",
     "shell.execute_reply": "2025-04-18T10:00:42.249842Z",
     "shell.execute_reply.started": "2025-04-18T10:00:42.242766Z"
    },
    "id": "c9eq9ZBYSNnQ",
    "outputId": "4c5bb141-0488-4346-a415-00c87ca4da03"
   },
   "outputs": [
    {
     "data": {
      "text/plain": [
       "24053764"
      ]
     },
     "execution_count": 10,
     "metadata": {},
     "output_type": "execute_result"
    }
   ],
   "source": [
    "# Ratings count in the dataset\n",
    "rating_count=len(netflix_df)-movie_count\n",
    "rating_count"
   ]
  },
  {
   "cell_type": "code",
   "execution_count": 11,
   "metadata": {
    "colab": {
     "base_uri": "https://localhost:8080/",
     "height": 718
    },
    "execution": {
     "iopub.execute_input": "2025-04-18T10:00:42.252853Z",
     "iopub.status.busy": "2025-04-18T10:00:42.252853Z",
     "iopub.status.idle": "2025-04-18T10:00:44.046436Z",
     "shell.execute_reply": "2025-04-18T10:00:44.045789Z",
     "shell.execute_reply.started": "2025-04-18T10:00:42.252853Z"
    },
    "id": "Kp-V1tzxSF1l",
    "outputId": "55bdd5ac-e203-497d-95c6-a776f7545e01"
   },
   "outputs": [
    {
     "data": {
      "image/png": "[encoded data removed]",
      "text/plain": [
       "<Figure size 1000x800 with 1 Axes>"
      ]
     },
     "metadata": {},
     "output_type": "display_data"
    }
   ],
   "source": [
    "df_ratings.plot(kind = 'barh', legend = False, figsize = (10,8))\n",
    "plt.title(f'Total Number: {movie_count} Movies, {cust_count} customers, {rating_count} ratings given', fontsize=14)\n",
    "plt.show()"
   ]
  },
  {
   "cell_type": "markdown",
   "metadata": {
    "id": "tjTQwv6oRY3V"
   },
   "source": [
    "To segregate the movies IDs from customer columns into a new column movie_ID\n",
    "* We are using ':' for separating the movie list"
   ]
  },
  {
   "cell_type": "code",
   "execution_count": 12,
   "metadata": {
    "execution": {
     "iopub.execute_input": "2025-04-18T10:00:44.047442Z",
     "iopub.status.busy": "2025-04-18T10:00:44.047442Z",
     "iopub.status.idle": "2025-04-18T10:00:49.105465Z",
     "shell.execute_reply": "2025-04-18T10:00:49.104460Z",
     "shell.execute_reply.started": "2025-04-18T10:00:44.047442Z"
    },
    "id": "aAsPMO2ORPeY"
   },
   "outputs": [],
   "source": [
    "movie_id = None\n",
    "movie_list = [ ]\n",
    "for cust in netflix_df['Customer_Id']:\n",
    "  if ':' in cust:\n",
    "    movie_id = int(cust.replace(':', ''))\n",
    "  else:\n",
    "    movie_list.append(movie_id)"
   ]
  },
  {
   "cell_type": "code",
   "execution_count": 13,
   "metadata": {
    "colab": {
     "base_uri": "https://localhost:8080/",
     "height": 423
    },
    "execution": {
     "iopub.execute_input": "2025-04-18T10:00:49.106471Z",
     "iopub.status.busy": "2025-04-18T10:00:49.105465Z",
     "iopub.status.idle": "2025-04-18T10:00:57.462258Z",
     "shell.execute_reply": "2025-04-18T10:00:57.460113Z",
     "shell.execute_reply.started": "2025-04-18T10:00:49.106471Z"
    },
    "id": "Y95L1w93TQyB",
    "outputId": "bae5c638-3b12-4d8d-bd78-fc4ceeb4430e"
   },
   "outputs": [
    {
     "data": {
      "text/html": [
       "<div>\n",
       "<style scoped>\n",
       "    .dataframe tbody tr th:only-of-type {\n",
       "        vertical-align: middle;\n",
       "    }\n",
       "\n",
       "    .dataframe tbody tr th {\n",
       "        vertical-align: top;\n",
       "    }\n",
       "\n",
       "    .dataframe thead th {\n",
       "        text-align: right;\n",
       "    }\n",
       "</style>\n",
       "<table border=\"1\" class=\"dataframe\">\n",
       "  <thead>\n",
       "    <tr style=\"text-align: right;\">\n",
       "      <th></th>\n",
       "      <th>Customer_Id</th>\n",
       "      <th>Ratings</th>\n",
       "      <th>Movie_Id</th>\n",
       "    </tr>\n",
       "  </thead>\n",
       "  <tbody>\n",
       "    <tr>\n",
       "      <th>1</th>\n",
       "      <td>1488844</td>\n",
       "      <td>3.0</td>\n",
       "      <td>1</td>\n",
       "    </tr>\n",
       "    <tr>\n",
       "      <th>2</th>\n",
       "      <td>822109</td>\n",
       "      <td>5.0</td>\n",
       "      <td>1</td>\n",
       "    </tr>\n",
       "    <tr>\n",
       "      <th>3</th>\n",
       "      <td>885013</td>\n",
       "      <td>4.0</td>\n",
       "      <td>1</td>\n",
       "    </tr>\n",
       "    <tr>\n",
       "      <th>4</th>\n",
       "      <td>30878</td>\n",
       "      <td>4.0</td>\n",
       "      <td>1</td>\n",
       "    </tr>\n",
       "    <tr>\n",
       "      <th>5</th>\n",
       "      <td>823519</td>\n",
       "      <td>3.0</td>\n",
       "      <td>1</td>\n",
       "    </tr>\n",
       "  </tbody>\n",
       "</table>\n",
       "</div>"
      ],
      "text/plain": [
       "  Customer_Id  Ratings  Movie_Id\n",
       "1     1488844      3.0         1\n",
       "2      822109      5.0         1\n",
       "3      885013      4.0         1\n",
       "4       30878      4.0         1\n",
       "5      823519      3.0         1"
      ]
     },
     "execution_count": 13,
     "metadata": {},
     "output_type": "execute_result"
    }
   ],
   "source": [
    "netflix_df.dropna(inplace=True)\n",
    "netflix_df['Movie_Id'] = movie_list\n",
    "netflix_df.head()"
   ]
  },
  {
   "cell_type": "markdown",
   "metadata": {
    "id": "XpXU2vyGWBJD"
   },
   "source": [
    "### Pre-filtering\n",
    "#### Filter out movies with less number of ratings (count)"
   ]
  },
  {
   "cell_type": "code",
   "execution_count": 14,
   "metadata": {
    "colab": {
     "base_uri": "https://localhost:8080/",
     "height": 489
    },
    "execution": {
     "iopub.execute_input": "2025-04-18T10:00:57.479274Z",
     "iopub.status.busy": "2025-04-18T10:00:57.478274Z",
     "iopub.status.idle": "2025-04-18T10:00:58.121740Z",
     "shell.execute_reply": "2025-04-18T10:00:58.120717Z",
     "shell.execute_reply.started": "2025-04-18T10:00:57.479274Z"
    },
    "id": "dDkR9IUKVT5i",
    "outputId": "c020bcd0-b000-400d-a316-107aa180fa20"
   },
   "outputs": [
    {
     "data": {
      "text/plain": [
       "Movie_Id\n",
       "1        547\n",
       "2        145\n",
       "3       2012\n",
       "4        142\n",
       "5       1140\n",
       "        ... \n",
       "4495     614\n",
       "4496    9519\n",
       "4497     714\n",
       "4498     269\n",
       "4499     428\n",
       "Name: Ratings, Length: 4499, dtype: int64"
      ]
     },
     "execution_count": 14,
     "metadata": {},
     "output_type": "execute_result"
    }
   ],
   "source": [
    "grouped_movies = netflix_df.groupby(\"Movie_Id\")[\"Ratings\"].count()\n",
    "grouped_movies"
   ]
  },
  {
   "cell_type": "code",
   "execution_count": 15,
   "metadata": {
    "execution": {
     "iopub.execute_input": "2025-04-18T10:00:58.124740Z",
     "iopub.status.busy": "2025-04-18T10:00:58.124740Z",
     "iopub.status.idle": "2025-04-18T10:00:58.141244Z",
     "shell.execute_reply": "2025-04-18T10:00:58.139725Z",
     "shell.execute_reply.started": "2025-04-18T10:00:58.124740Z"
    },
    "id": "0jIpnXJhWIow"
   },
   "outputs": [],
   "source": [
    "benchmark = grouped_movies.quantile(0.60)"
   ]
  },
  {
   "cell_type": "code",
   "execution_count": 16,
   "metadata": {
    "colab": {
     "base_uri": "https://localhost:8080/",
     "height": 489
    },
    "execution": {
     "iopub.execute_input": "2025-04-18T10:00:58.144243Z",
     "iopub.status.busy": "2025-04-18T10:00:58.143244Z",
     "iopub.status.idle": "2025-04-18T10:00:58.164236Z",
     "shell.execute_reply": "2025-04-18T10:00:58.163229Z",
     "shell.execute_reply.started": "2025-04-18T10:00:58.144243Z"
    },
    "id": "00Y0d32DWRBX",
    "outputId": "42754c6c-3820-46b6-adc9-405731accfa0"
   },
   "outputs": [
    {
     "data": {
      "text/plain": [
       "Movie_Id\n",
       "3        2012\n",
       "5        1140\n",
       "6        1019\n",
       "8       14910\n",
       "16       2699\n",
       "        ...  \n",
       "4489     1404\n",
       "4490    10258\n",
       "4492     9353\n",
       "4493     6381\n",
       "4496     9519\n",
       "Name: Ratings, Length: 1800, dtype: int64"
      ]
     },
     "execution_count": 16,
     "metadata": {},
     "output_type": "execute_result"
    }
   ],
   "source": [
    "grouped_movies[grouped_movies > grouped_movies.quantile(0.60)]"
   ]
  },
  {
   "cell_type": "code",
   "execution_count": 17,
   "metadata": {
    "colab": {
     "base_uri": "https://localhost:8080/"
    },
    "execution": {
     "iopub.execute_input": "2025-04-18T10:00:58.167241Z",
     "iopub.status.busy": "2025-04-18T10:00:58.166237Z",
     "iopub.status.idle": "2025-04-18T10:00:58.180196Z",
     "shell.execute_reply": "2025-04-18T10:00:58.178182Z",
     "shell.execute_reply.started": "2025-04-18T10:00:58.167241Z"
    },
    "id": "x0P6QLz7WUBf",
    "outputId": "9edffc10-abd0-46f1-d4eb-61773fb7f065"
   },
   "outputs": [
    {
     "data": {
      "text/plain": [
       "Index([   1,    2,    4,    7,    9,   10,   11,   12,   13,   14,\n",
       "       ...\n",
       "       4480, 4481, 4486, 4487, 4491, 4494, 4495, 4497, 4498, 4499],\n",
       "      dtype='int64', name='Movie_Id', length=2699)"
      ]
     },
     "execution_count": 17,
     "metadata": {},
     "output_type": "execute_result"
    }
   ],
   "source": [
    "rejected_movies  = grouped_movies[grouped_movies <= benchmark].index\n",
    "rejected_movies"
   ]
  },
  {
   "cell_type": "markdown",
   "metadata": {
    "id": "QsAPYjlKWa2Y"
   },
   "source": [
    "#### Filtering out customers who are less active (rated less number of movies)"
   ]
  },
  {
   "cell_type": "code",
   "execution_count": 18,
   "metadata": {
    "colab": {
     "base_uri": "https://localhost:8080/",
     "height": 489
    },
    "execution": {
     "iopub.execute_input": "2025-04-18T10:00:58.182191Z",
     "iopub.status.busy": "2025-04-18T10:00:58.182191Z",
     "iopub.status.idle": "2025-04-18T10:01:05.151866Z",
     "shell.execute_reply": "2025-04-18T10:01:05.150857Z",
     "shell.execute_reply.started": "2025-04-18T10:00:58.182191Z"
    },
    "id": "chJnXpNsWXCD",
    "outputId": "2e74be02-4422-491b-b915-84655c519b70"
   },
   "outputs": [
    {
     "data": {
      "text/plain": [
       "Customer_Id\n",
       "10          49\n",
       "1000004      1\n",
       "1000027     30\n",
       "1000033    101\n",
       "1000035     20\n",
       "          ... \n",
       "999964      48\n",
       "999972      35\n",
       "999977      14\n",
       "999984      38\n",
       "999988      28\n",
       "Name: Ratings, Length: 470758, dtype: int64"
      ]
     },
     "execution_count": 18,
     "metadata": {},
     "output_type": "execute_result"
    }
   ],
   "source": [
    "grouped_cust = netflix_df.groupby(\"Customer_Id\")[\"Ratings\"].count()\n",
    "grouped_cust"
   ]
  },
  {
   "cell_type": "code",
   "execution_count": 19,
   "metadata": {
    "colab": {
     "base_uri": "https://localhost:8080/"
    },
    "execution": {
     "iopub.execute_input": "2025-04-18T10:01:05.152866Z",
     "iopub.status.busy": "2025-04-18T10:01:05.152866Z",
     "iopub.status.idle": "2025-04-18T10:01:05.168968Z",
     "shell.execute_reply": "2025-04-18T10:01:05.166955Z",
     "shell.execute_reply.started": "2025-04-18T10:01:05.152866Z"
    },
    "id": "yCvKtlzdWd_u",
    "outputId": "16eb907c-5e51-4f5e-91d4-039a8935d0f7"
   },
   "outputs": [
    {
     "data": {
      "text/plain": [
       "36.0"
      ]
     },
     "execution_count": 19,
     "metadata": {},
     "output_type": "execute_result"
    }
   ],
   "source": [
    "benchmark_cust = grouped_cust.quantile(0.60)\n",
    "benchmark_cust"
   ]
  },
  {
   "cell_type": "code",
   "execution_count": 20,
   "metadata": {
    "colab": {
     "base_uri": "https://localhost:8080/"
    },
    "execution": {
     "iopub.execute_input": "2025-04-18T10:01:05.170966Z",
     "iopub.status.busy": "2025-04-18T10:01:05.170966Z",
     "iopub.status.idle": "2025-04-18T10:01:05.223658Z",
     "shell.execute_reply": "2025-04-18T10:01:05.222648Z",
     "shell.execute_reply.started": "2025-04-18T10:01:05.170966Z"
    },
    "id": "5L58Vk-5WmQw",
    "outputId": "4c336627-e497-41d5-a3ee-387e09691ebe"
   },
   "outputs": [
    {
     "data": {
      "text/plain": [
       "Index(['1000004', '1000027', '1000035', '1000038', '1000051', '1000057',\n",
       "       '100006', '100007', '1000072', '1000076',\n",
       "       ...\n",
       "       '999919', '999921', '999932', '999935', '99994', '999945', '999949',\n",
       "       '999972', '999977', '999988'],\n",
       "      dtype='object', name='Customer_Id', length=285506)"
      ]
     },
     "execution_count": 20,
     "metadata": {},
     "output_type": "execute_result"
    }
   ],
   "source": [
    "rejected_cust = grouped_cust[grouped_cust <= benchmark_cust].index\n",
    "rejected_cust"
   ]
  },
  {
   "cell_type": "code",
   "execution_count": 21,
   "metadata": {
    "colab": {
     "base_uri": "https://localhost:8080/",
     "height": 206
    },
    "execution": {
     "iopub.execute_input": "2025-04-18T10:01:05.225659Z",
     "iopub.status.busy": "2025-04-18T10:01:05.224657Z",
     "iopub.status.idle": "2025-04-18T10:01:15.357204Z",
     "shell.execute_reply": "2025-04-18T10:01:15.356197Z",
     "shell.execute_reply.started": "2025-04-18T10:01:05.225659Z"
    },
    "id": "XhswxG5uWq7-",
    "outputId": "54109f62-9c78-4290-ea4c-74a6dd16703e"
   },
   "outputs": [
    {
     "data": {
      "text/html": [
       "<div>\n",
       "<style scoped>\n",
       "    .dataframe tbody tr th:only-of-type {\n",
       "        vertical-align: middle;\n",
       "    }\n",
       "\n",
       "    .dataframe tbody tr th {\n",
       "        vertical-align: top;\n",
       "    }\n",
       "\n",
       "    .dataframe thead th {\n",
       "        text-align: right;\n",
       "    }\n",
       "</style>\n",
       "<table border=\"1\" class=\"dataframe\">\n",
       "  <thead>\n",
       "    <tr style=\"text-align: right;\">\n",
       "      <th></th>\n",
       "      <th>Customer_Id</th>\n",
       "      <th>Ratings</th>\n",
       "      <th>Movie_Id</th>\n",
       "    </tr>\n",
       "  </thead>\n",
       "  <tbody>\n",
       "    <tr>\n",
       "      <th>696</th>\n",
       "      <td>712664</td>\n",
       "      <td>5.0</td>\n",
       "      <td>3</td>\n",
       "    </tr>\n",
       "    <tr>\n",
       "      <th>697</th>\n",
       "      <td>1331154</td>\n",
       "      <td>4.0</td>\n",
       "      <td>3</td>\n",
       "    </tr>\n",
       "    <tr>\n",
       "      <th>698</th>\n",
       "      <td>2632461</td>\n",
       "      <td>3.0</td>\n",
       "      <td>3</td>\n",
       "    </tr>\n",
       "    <tr>\n",
       "      <th>699</th>\n",
       "      <td>44937</td>\n",
       "      <td>5.0</td>\n",
       "      <td>3</td>\n",
       "    </tr>\n",
       "    <tr>\n",
       "      <th>700</th>\n",
       "      <td>656399</td>\n",
       "      <td>4.0</td>\n",
       "      <td>3</td>\n",
       "    </tr>\n",
       "  </tbody>\n",
       "</table>\n",
       "</div>"
      ],
      "text/plain": [
       "     Customer_Id  Ratings  Movie_Id\n",
       "696       712664      5.0         3\n",
       "697      1331154      4.0         3\n",
       "698      2632461      3.0         3\n",
       "699        44937      5.0         3\n",
       "700       656399      4.0         3"
      ]
     },
     "execution_count": 21,
     "metadata": {},
     "output_type": "execute_result"
    }
   ],
   "source": [
    "netflix_df = netflix_df[~(netflix_df['Movie_Id'].isin(rejected_movies))&~(netflix_df['Customer_Id'].isin(rejected_cust))]\n",
    "netflix_df['Customer_Id'] = netflix_df['Customer_Id'].astype(int)\n",
    "netflix_df.head()"
   ]
  },
  {
   "cell_type": "code",
   "execution_count": 22,
   "metadata": {
    "colab": {
     "base_uri": "https://localhost:8080/"
    },
    "execution": {
     "iopub.execute_input": "2025-04-18T10:01:15.358206Z",
     "iopub.status.busy": "2025-04-18T10:01:15.358206Z",
     "iopub.status.idle": "2025-04-18T10:01:15.546926Z",
     "shell.execute_reply": "2025-04-18T10:01:15.545919Z",
     "shell.execute_reply.started": "2025-04-18T10:01:15.358206Z"
    },
    "id": "QJtRbclgWu3g",
    "outputId": "ee6e2f9a-5df5-469f-f31e-ca126defd8e3"
   },
   "outputs": [
    {
     "name": "stdout",
     "output_type": "stream",
     "text": [
      "<class 'pandas.core.frame.DataFrame'>\n",
      "Index: 19575187 entries, 696 to 24056846\n",
      "Data columns (total 3 columns):\n",
      " #   Column       Dtype  \n",
      "---  ------       -----  \n",
      " 0   Customer_Id  int32  \n",
      " 1   Ratings      float64\n",
      " 2   Movie_Id     int64  \n",
      "dtypes: float64(1), int32(1), int64(1)\n",
      "memory usage: 522.7 MB\n"
     ]
    }
   ],
   "source": [
    "netflix_df.info()"
   ]
  },
  {
   "cell_type": "markdown",
   "metadata": {
    "id": "x0do2pUOXEP0"
   },
   "source": [
    "### Loading the movie_titles dataset"
   ]
  },
  {
   "cell_type": "code",
   "execution_count": 23,
   "metadata": {
    "colab": {
     "base_uri": "https://localhost:8080/",
     "height": 423
    },
    "execution": {
     "iopub.execute_input": "2025-04-18T10:01:15.547930Z",
     "iopub.status.busy": "2025-04-18T10:01:15.547930Z",
     "iopub.status.idle": "2025-04-18T10:01:15.758462Z",
     "shell.execute_reply": "2025-04-18T10:01:15.757455Z",
     "shell.execute_reply.started": "2025-04-18T10:01:15.547930Z"
    },
    "id": "0XcQCuiWW1L0",
    "outputId": "35fac824-875d-4073-c214-1db472dd1e3e"
   },
   "outputs": [
    {
     "data": {
      "text/html": [
       "<div>\n",
       "<style scoped>\n",
       "    .dataframe tbody tr th:only-of-type {\n",
       "        vertical-align: middle;\n",
       "    }\n",
       "\n",
       "    .dataframe tbody tr th {\n",
       "        vertical-align: top;\n",
       "    }\n",
       "\n",
       "    .dataframe thead th {\n",
       "        text-align: right;\n",
       "    }\n",
       "</style>\n",
       "<table border=\"1\" class=\"dataframe\">\n",
       "  <thead>\n",
       "    <tr style=\"text-align: right;\">\n",
       "      <th></th>\n",
       "      <th>Movie_ID</th>\n",
       "      <th>Year</th>\n",
       "      <th>Name</th>\n",
       "    </tr>\n",
       "  </thead>\n",
       "  <tbody>\n",
       "    <tr>\n",
       "      <th>5406</th>\n",
       "      <td>5407</td>\n",
       "      <td>1998.0</td>\n",
       "      <td>Still Breathing</td>\n",
       "    </tr>\n",
       "    <tr>\n",
       "      <th>11921</th>\n",
       "      <td>11922</td>\n",
       "      <td>1964.0</td>\n",
       "      <td>The Twilight Zone: Vol. 17</td>\n",
       "    </tr>\n",
       "    <tr>\n",
       "      <th>9815</th>\n",
       "      <td>9816</td>\n",
       "      <td>1999.0</td>\n",
       "      <td>Baadshah</td>\n",
       "    </tr>\n",
       "    <tr>\n",
       "      <th>10822</th>\n",
       "      <td>10823</td>\n",
       "      <td>2000.0</td>\n",
       "      <td>Eating Well for Optimum Health</td>\n",
       "    </tr>\n",
       "    <tr>\n",
       "      <th>11880</th>\n",
       "      <td>11881</td>\n",
       "      <td>1993.0</td>\n",
       "      <td>For Love or Money</td>\n",
       "    </tr>\n",
       "  </tbody>\n",
       "</table>\n",
       "</div>"
      ],
      "text/plain": [
       "       Movie_ID    Year                            Name\n",
       "5406       5407  1998.0                 Still Breathing\n",
       "11921     11922  1964.0      The Twilight Zone: Vol. 17\n",
       "9815       9816  1999.0                        Baadshah\n",
       "10822     10823  2000.0  Eating Well for Optimum Health\n",
       "11880     11881  1993.0               For Love or Money"
      ]
     },
     "execution_count": 23,
     "metadata": {},
     "output_type": "execute_result"
    }
   ],
   "source": [
    "movie_titles = pd.read_csv(r'C:\\Users\\adars\\EPG_Python_Intellipaat\\Project\\movie_titles.csv',encoding=\"ISO-8859-1\",header=None,names=[\"Movie_ID\",\"Year\",\"Name\"],usecols=[0,1,2])\n",
    "movie_titles=movie_titles[~movie_titles[\"Movie_ID\"].isin(rejected_movies)]\n",
    "movie_titles.sample(5)"
   ]
  },
  {
   "cell_type": "markdown",
   "metadata": {
    "id": "uwa4xaXy_lsC"
   },
   "source": [
    "### Using scikit-surprise library for implementing SVD\n",
    "* Installing sklearn.surprise"
   ]
  },
  {
   "cell_type": "code",
   "execution_count": 24,
   "metadata": {
    "colab": {
     "base_uri": "https://localhost:8080/",
     "height": 1000
    },
    "execution": {
     "iopub.execute_input": "2025-04-18T10:01:15.760466Z",
     "iopub.status.busy": "2025-04-18T10:01:15.759462Z",
     "iopub.status.idle": "2025-04-18T10:01:19.513379Z",
     "shell.execute_reply": "2025-04-18T10:01:19.512370Z",
     "shell.execute_reply.started": "2025-04-18T10:01:15.760466Z"
    },
    "id": "3Rqybl39_BtI",
    "outputId": "4284af3f-80bf-4512-ce5f-e4190547e131"
   },
   "outputs": [],
   "source": [
    "from surprise import Reader, Dataset, SVD # SVD algorithm for recommender engine\n",
    "from surprise.model_selection import cross_validate"
   ]
  },
  {
   "cell_type": "code",
   "execution_count": 25,
   "metadata": {
    "execution": {
     "iopub.execute_input": "2025-04-18T10:01:19.514378Z",
     "iopub.status.busy": "2025-04-18T10:01:19.514378Z",
     "iopub.status.idle": "2025-04-18T10:01:19.519504Z",
     "shell.execute_reply": "2025-04-18T10:01:19.518493Z",
     "shell.execute_reply.started": "2025-04-18T10:01:19.514378Z"
    },
    "id": "5Kn_hzRHAE1s"
   },
   "outputs": [],
   "source": [
    "read = Reader()"
   ]
  },
  {
   "cell_type": "code",
   "execution_count": 26,
   "metadata": {
    "execution": {
     "iopub.execute_input": "2025-04-18T10:01:19.546680Z",
     "iopub.status.busy": "2025-04-18T10:01:19.546680Z",
     "iopub.status.idle": "2025-04-18T10:01:20.869517Z",
     "shell.execute_reply": "2025-04-18T10:01:20.868511Z",
     "shell.execute_reply.started": "2025-04-18T10:01:19.546680Z"
    },
    "id": "sa3BNXaAAHIc"
   },
   "outputs": [
    {
     "data": {
      "text/plain": [
       "<surprise.dataset.DatasetAutoFolds at 0x20987310290>"
      ]
     },
     "execution_count": 26,
     "metadata": {},
     "output_type": "execute_result"
    }
   ],
   "source": [
    "df = Dataset.load_from_df(netflix_df[[\"Customer_Id\",\"Movie_Id\",\"Ratings\"]][:1000000],read)\n",
    "df"
   ]
  },
  {
   "cell_type": "code",
   "execution_count": 27,
   "metadata": {
    "execution": {
     "iopub.execute_input": "2025-04-18T10:01:20.870520Z",
     "iopub.status.busy": "2025-04-18T10:01:20.870520Z",
     "iopub.status.idle": "2025-04-18T10:02:03.627574Z",
     "shell.execute_reply": "2025-04-18T10:02:03.625562Z",
     "shell.execute_reply.started": "2025-04-18T10:01:20.870520Z"
    },
    "id": "B913aZAlAKz_"
   },
   "outputs": [
    {
     "data": {
      "text/plain": [
       "{'test_rmse': array([0.96798286, 0.96898613, 0.96965633]),\n",
       " 'fit_time': (8.774508237838745, 8.403595685958862, 9.45667576789856),\n",
       " 'test_time': (3.5180652141571045, 2.6417510509490967, 2.6452009677886963)}"
      ]
     },
     "execution_count": 27,
     "metadata": {},
     "output_type": "execute_result"
    }
   ],
   "source": [
    "svd_model = SVD()\n",
    "cross_validate(svd_model, df, measures=[\"RMSE\"], cv=3)"
   ]
  },
  {
   "cell_type": "markdown",
   "metadata": {
    "id": "W1qBnNq2AVvJ"
   },
   "source": [
    "### Recommendation Engine\r",
    "####  Choosing a random custome  and predicting th top recommended movies for that customer."
   ]
  },
  {
   "cell_type": "code",
   "execution_count": 28,
   "metadata": {
    "execution": {
     "iopub.execute_input": "2025-04-18T10:02:03.630577Z",
     "iopub.status.busy": "2025-04-18T10:02:03.629576Z",
     "iopub.status.idle": "2025-04-18T10:02:04.305814Z",
     "shell.execute_reply": "2025-04-18T10:02:04.304801Z",
     "shell.execute_reply.started": "2025-04-18T10:02:03.630577Z"
    }
   },
   "outputs": [
    {
     "name": "stdout",
     "output_type": "stream",
     "text": [
      "Random Customer ID: 976147\n"
     ]
    }
   ],
   "source": [
    "np.random.seed(100)\n",
    "\n",
    "random_customer =np.random.choice(netflix_df['Customer_Id'].unique())\n",
    "\n",
    "print(\"Random Customer ID:\", random_customer)"
   ]
  },
  {
   "cell_type": "code",
   "execution_count": 29,
   "metadata": {
    "execution": {
     "iopub.execute_input": "2025-04-18T10:02:04.306812Z",
     "iopub.status.busy": "2025-04-18T10:02:04.306812Z",
     "iopub.status.idle": "2025-04-18T10:02:04.320094Z",
     "shell.execute_reply": "2025-04-18T10:02:04.318082Z",
     "shell.execute_reply.started": "2025-04-18T10:02:04.306812Z"
    }
   },
   "outputs": [
    {
     "data": {
      "text/html": [
       "<div>\n",
       "<style scoped>\n",
       "    .dataframe tbody tr th:only-of-type {\n",
       "        vertical-align: middle;\n",
       "    }\n",
       "\n",
       "    .dataframe tbody tr th {\n",
       "        vertical-align: top;\n",
       "    }\n",
       "\n",
       "    .dataframe thead th {\n",
       "        text-align: right;\n",
       "    }\n",
       "</style>\n",
       "<table border=\"1\" class=\"dataframe\">\n",
       "  <thead>\n",
       "    <tr style=\"text-align: right;\">\n",
       "      <th></th>\n",
       "      <th>Movie_ID</th>\n",
       "      <th>Year</th>\n",
       "      <th>Name</th>\n",
       "    </tr>\n",
       "  </thead>\n",
       "  <tbody>\n",
       "    <tr>\n",
       "      <th>0</th>\n",
       "      <td>3</td>\n",
       "      <td>1997.0</td>\n",
       "      <td>Character</td>\n",
       "    </tr>\n",
       "    <tr>\n",
       "      <th>1</th>\n",
       "      <td>5</td>\n",
       "      <td>2004.0</td>\n",
       "      <td>The Rise and Fall of ECW</td>\n",
       "    </tr>\n",
       "    <tr>\n",
       "      <th>2</th>\n",
       "      <td>6</td>\n",
       "      <td>1997.0</td>\n",
       "      <td>Sick</td>\n",
       "    </tr>\n",
       "    <tr>\n",
       "      <th>3</th>\n",
       "      <td>8</td>\n",
       "      <td>2004.0</td>\n",
       "      <td>What the #$*! Do We Know!?</td>\n",
       "    </tr>\n",
       "    <tr>\n",
       "      <th>4</th>\n",
       "      <td>16</td>\n",
       "      <td>1996.0</td>\n",
       "      <td>Screamers</td>\n",
       "    </tr>\n",
       "  </tbody>\n",
       "</table>\n",
       "</div>"
      ],
      "text/plain": [
       "   Movie_ID    Year                        Name\n",
       "0         3  1997.0                   Character\n",
       "1         5  2004.0    The Rise and Fall of ECW\n",
       "2         6  1997.0                        Sick\n",
       "3         8  2004.0  What the #$*! Do We Know!?\n",
       "4        16  1996.0                   Screamers"
      ]
     },
     "execution_count": 29,
     "metadata": {},
     "output_type": "execute_result"
    }
   ],
   "source": [
    "df_976147 = movie_titles.copy()\n",
    "df_976147.reset_index(inplace=True, drop=True)\n",
    "df_976147.head()"
   ]
  },
  {
   "cell_type": "code",
   "execution_count": 30,
   "metadata": {
    "execution": {
     "iopub.execute_input": "2025-04-18T10:02:04.321091Z",
     "iopub.status.busy": "2025-04-18T10:02:04.321091Z",
     "iopub.status.idle": "2025-04-18T10:02:04.405197Z",
     "shell.execute_reply": "2025-04-18T10:02:04.404545Z",
     "shell.execute_reply.started": "2025-04-18T10:02:04.321091Z"
    }
   },
   "outputs": [],
   "source": [
    "df_976147[\"Estimate_Score\"] = df_976147[\"Movie_ID\"].apply(lambda x: svd_model.predict(976147,x).est)\n",
    "df_976147.index = df_976147.index +1"
   ]
  },
  {
   "cell_type": "code",
   "execution_count": 31,
   "metadata": {
    "execution": {
     "iopub.execute_input": "2025-04-18T10:02:04.406203Z",
     "iopub.status.busy": "2025-04-18T10:02:04.406203Z",
     "iopub.status.idle": "2025-04-18T10:02:04.421582Z",
     "shell.execute_reply": "2025-04-18T10:02:04.420573Z",
     "shell.execute_reply.started": "2025-04-18T10:02:04.406203Z"
    }
   },
   "outputs": [
    {
     "data": {
      "text/html": [
       "<div>\n",
       "<style scoped>\n",
       "    .dataframe tbody tr th:only-of-type {\n",
       "        vertical-align: middle;\n",
       "    }\n",
       "\n",
       "    .dataframe tbody tr th {\n",
       "        vertical-align: top;\n",
       "    }\n",
       "\n",
       "    .dataframe thead th {\n",
       "        text-align: right;\n",
       "    }\n",
       "</style>\n",
       "<table border=\"1\" class=\"dataframe\">\n",
       "  <thead>\n",
       "    <tr style=\"text-align: right;\">\n",
       "      <th></th>\n",
       "      <th>Movie_ID</th>\n",
       "      <th>Year</th>\n",
       "      <th>Name</th>\n",
       "      <th>Estimate_Score</th>\n",
       "    </tr>\n",
       "  </thead>\n",
       "  <tbody>\n",
       "    <tr>\n",
       "      <th>28</th>\n",
       "      <td>76</td>\n",
       "      <td>1952.0</td>\n",
       "      <td>I Love Lucy: Season 2</td>\n",
       "      <td>4.442761</td>\n",
       "    </tr>\n",
       "    <tr>\n",
       "      <th>103</th>\n",
       "      <td>270</td>\n",
       "      <td>2001.0</td>\n",
       "      <td>Sex and the City: Season 4</td>\n",
       "      <td>4.419671</td>\n",
       "    </tr>\n",
       "    <tr>\n",
       "      <th>2</th>\n",
       "      <td>5</td>\n",
       "      <td>2004.0</td>\n",
       "      <td>The Rise and Fall of ECW</td>\n",
       "      <td>4.295915</td>\n",
       "    </tr>\n",
       "    <tr>\n",
       "      <th>82</th>\n",
       "      <td>223</td>\n",
       "      <td>2003.0</td>\n",
       "      <td>Chappelle's Show: Season 1</td>\n",
       "      <td>4.292622</td>\n",
       "    </tr>\n",
       "    <tr>\n",
       "      <th>98</th>\n",
       "      <td>257</td>\n",
       "      <td>1973.0</td>\n",
       "      <td>Charlotte's Web</td>\n",
       "      <td>4.271024</td>\n",
       "    </tr>\n",
       "    <tr>\n",
       "      <th>9</th>\n",
       "      <td>25</td>\n",
       "      <td>1997.0</td>\n",
       "      <td>Inspector Morse 31: Death Is Now My Neighbour</td>\n",
       "      <td>4.260801</td>\n",
       "    </tr>\n",
       "    <tr>\n",
       "      <th>91</th>\n",
       "      <td>242</td>\n",
       "      <td>1995.0</td>\n",
       "      <td>Neon Genesis Evangelion: The End of Evangelion</td>\n",
       "      <td>4.237971</td>\n",
       "    </tr>\n",
       "    <tr>\n",
       "      <th>14</th>\n",
       "      <td>33</td>\n",
       "      <td>2000.0</td>\n",
       "      <td>Aqua Teen Hunger Force: Vol. 1</td>\n",
       "      <td>4.196107</td>\n",
       "    </tr>\n",
       "    <tr>\n",
       "      <th>39</th>\n",
       "      <td>106</td>\n",
       "      <td>2004.0</td>\n",
       "      <td>Stevie Ray Vaughan and Double Trouble: Live at...</td>\n",
       "      <td>4.174432</td>\n",
       "    </tr>\n",
       "    <tr>\n",
       "      <th>13</th>\n",
       "      <td>32</td>\n",
       "      <td>2004.0</td>\n",
       "      <td>ABC Primetime: Mel Gibson's The Passion of the...</td>\n",
       "      <td>4.168401</td>\n",
       "    </tr>\n",
       "  </tbody>\n",
       "</table>\n",
       "</div>"
      ],
      "text/plain": [
       "     Movie_ID    Year                                               Name  \\\n",
       "28         76  1952.0                              I Love Lucy: Season 2   \n",
       "103       270  2001.0                         Sex and the City: Season 4   \n",
       "2           5  2004.0                           The Rise and Fall of ECW   \n",
       "82        223  2003.0                         Chappelle's Show: Season 1   \n",
       "98        257  1973.0                                    Charlotte's Web   \n",
       "9          25  1997.0      Inspector Morse 31: Death Is Now My Neighbour   \n",
       "91        242  1995.0     Neon Genesis Evangelion: The End of Evangelion   \n",
       "14         33  2000.0                     Aqua Teen Hunger Force: Vol. 1   \n",
       "39        106  2004.0  Stevie Ray Vaughan and Double Trouble: Live at...   \n",
       "13         32  2004.0  ABC Primetime: Mel Gibson's The Passion of the...   \n",
       "\n",
       "     Estimate_Score  \n",
       "28         4.442761  \n",
       "103        4.419671  \n",
       "2          4.295915  \n",
       "82         4.292622  \n",
       "98         4.271024  \n",
       "9          4.260801  \n",
       "91         4.237971  \n",
       "14         4.196107  \n",
       "39         4.174432  \n",
       "13         4.168401  "
      ]
     },
     "execution_count": 31,
     "metadata": {},
     "output_type": "execute_result"
    }
   ],
   "source": [
    "df_976147.sort_values(\"Estimate_Score\", ascending=False).head(10)"
   ]
  },
  {
   "cell_type": "code",
   "execution_count": 32,
   "metadata": {
    "execution": {
     "iopub.execute_input": "2025-04-18T10:02:04.423601Z",
     "iopub.status.busy": "2025-04-18T10:02:04.422582Z",
     "iopub.status.idle": "2025-04-18T10:02:04.429806Z",
     "shell.execute_reply": "2025-04-18T10:02:04.428581Z",
     "shell.execute_reply.started": "2025-04-18T10:02:04.423601Z"
    }
   },
   "outputs": [],
   "source": [
    "pd.set_option('display.expand_frame_repr', False)"
   ]
  },
  {
   "cell_type": "markdown",
   "metadata": {},
   "source": [
    "### Top 10 Recommended Movies for 5 Random Customers"
   ]
  },
  {
   "cell_type": "code",
   "execution_count": 33,
   "metadata": {
    "execution": {
     "iopub.execute_input": "2025-04-18T10:02:04.430833Z",
     "iopub.status.busy": "2025-04-18T10:02:04.430833Z",
     "iopub.status.idle": "2025-04-18T10:02:06.959942Z",
     "shell.execute_reply": "2025-04-18T10:02:06.958935Z",
     "shell.execute_reply.started": "2025-04-18T10:02:04.430833Z"
    }
   },
   "outputs": [
    {
     "name": "stdout",
     "output_type": "stream",
     "text": [
      "================================================================================\n",
      "Random Customer ID: 269442\n",
      "--------------------------------------------------------------------------------\n",
      "Movie_ID  Year   Estimate_Score Name\n",
      "--------------------------------------------------------------------------------\n",
      "209       1996   4.5921         Star Trek: Deep Space Nine: Season 5\n",
      "138       1995   4.2842         Star Trek: Voyager: Season 1\n",
      "223       2003   4.0793         Chappelle's Show: Season 1\n",
      "18        1994   4.0726         Immortal Beloved\n",
      "33        2000   4.0051         Aqua Teen Hunger Force: Vol. 1\n",
      "241       1959   3.9891         North by Northwest\n",
      "167       2004   3.9767         The Chorus\n",
      "175       1992   3.9729         Reservoir Dogs\n",
      "199       1978   3.9493         The Deer Hunter\n",
      "253       1935   3.9338         A Night at the Opera\n",
      "================================================================================\n",
      "\n",
      "================================================================================\n",
      "Random Customer ID: 785992\n",
      "--------------------------------------------------------------------------------\n",
      "Movie_ID  Year   Estimate_Score Name\n",
      "--------------------------------------------------------------------------------\n",
      "138       1995   4.6356         Star Trek: Voyager: Season 1\n",
      "270       2001   4.3102         Sex and the City: Season 4\n",
      "165       1982   4.254          Richard Pryor: Live on the Sunset Strip\n",
      "242       1995   4.157          Neon Genesis Evangelion: The End of Evangelion\n",
      "209       1996   4.149          Star Trek: Deep Space Nine: Season 5\n",
      "240       1942   4.104          Woman of the Year\n",
      "241       1959   4.0124         North by Northwest\n",
      "199       1978   3.963          The Deer Hunter\n",
      "113       2000   3.924          Bruce Lee: A Warrior's Journey\n",
      "156       1992   3.9196         Husbands and Wives\n",
      "================================================================================\n",
      "\n",
      "================================================================================\n",
      "Random Customer ID: 2178763\n",
      "--------------------------------------------------------------------------------\n",
      "Movie_ID  Year   Estimate_Score Name\n",
      "--------------------------------------------------------------------------------\n",
      "32        2004   4.8529         ABC Primetime: Mel Gibson's The Passion of the Christ\n",
      "215       1998   4.8361         That '70s Show: Season 1\n",
      "33        2000   4.7842         Aqua Teen Hunger Force: Vol. 1\n",
      "270       2001   4.4687         Sex and the City: Season 4\n",
      "68        2004   4.4316         Invader Zim\n",
      "76        1952   4.3914         I Love Lucy: Season 2\n",
      "175       1992   4.3859         Reservoir Dogs\n",
      "167       2004   4.3854         The Chorus\n",
      "241       1959   4.3618         North by Northwest\n",
      "106       2004   4.3211         Stevie Ray Vaughan and Double Trouble: Live at Montreux 1982\n",
      "================================================================================\n",
      "\n",
      "================================================================================\n",
      "Random Customer ID: 101142\n",
      "--------------------------------------------------------------------------------\n",
      "Movie_ID  Year   Estimate_Score Name\n",
      "--------------------------------------------------------------------------------\n",
      "133       2003   4.961          Viva La Bam: Season 1\n",
      "209       1996   4.5884         Star Trek: Deep Space Nine: Season 5\n",
      "223       2003   4.4629         Chappelle's Show: Season 1\n",
      "138       1995   4.4561         Star Trek: Voyager: Season 1\n",
      "68        2004   4.4202         Invader Zim\n",
      "106       2004   4.3194         Stevie Ray Vaughan and Double Trouble: Live at Montreux 1982\n",
      "167       2004   4.2898         The Chorus\n",
      "270       2001   4.2821         Sex and the City: Season 4\n",
      "32        2004   4.2748         ABC Primetime: Mel Gibson's The Passion of the Christ\n",
      "33        2000   4.186          Aqua Teen Hunger Force: Vol. 1\n",
      "================================================================================\n",
      "\n",
      "================================================================================\n",
      "Random Customer ID: 2373670\n",
      "--------------------------------------------------------------------------------\n",
      "Movie_ID  Year   Estimate_Score Name\n",
      "--------------------------------------------------------------------------------\n",
      "32        2004   4.4154         ABC Primetime: Mel Gibson's The Passion of the Christ\n",
      "68        2004   4.4124         Invader Zim\n",
      "167       2004   4.3812         The Chorus\n",
      "33        2000   4.3347         Aqua Teen Hunger Force: Vol. 1\n",
      "138       1995   4.3093         Star Trek: Voyager: Season 1\n",
      "209       1996   4.2988         Star Trek: Deep Space Nine: Season 5\n",
      "241       1959   4.2594         North by Northwest\n",
      "270       2001   4.1882         Sex and the City: Season 4\n",
      "240       1942   4.1863         Woman of the Year\n",
      "267       1994   4.1746         Touched by an Angel: Season 1\n",
      "================================================================================\n",
      "\n"
     ]
    }
   ],
   "source": [
    "seeds = [5, 123, 457, 12, 60]\n",
    "for seed in seeds:\n",
    "    np.random.seed(seed)\n",
    "    random_customer =np.random.choice(netflix_df['Customer_Id'].unique())\n",
    "    df_random = movie_titles.copy()\n",
    "    df_random[\"Estimate_Score\"] = df_random[\"Movie_ID\"].apply(lambda x: svd_model.predict(random_customer, x).est)\n",
    "    df_random = df_random.sort_values(\"Estimate_Score\", ascending=False).head(10)\n",
    "\n",
    "    # Round score\n",
    "    df_random[\"Estimate_Score\"] = df_random[\"Estimate_Score\"].round(4)\n",
    "\n",
    "    print(\"=\"*80)\n",
    "    print(f\"Random Customer ID: {random_customer}\")\n",
    "    print(\"-\"*80)\n",
    "    print(f\"{'Movie_ID':<9} {'Year':<6} {'Estimate_Score':<14} {'Name'}\")\n",
    "    print(\"-\"*80)\n",
    "\n",
    "    for _, row in df_random.iterrows():\n",
    "        print(f\"{row['Movie_ID']:<9} {int(row['Year']):<6} {row['Estimate_Score']:<14} {row['Name'][:60]}\")\n",
    "\n",
    "    print(\"=\"*80 + \"\\n\")"
   ]
  }
 ],
 "metadata": {
  "colab": {
   "provenance": []
  },
  "kernelspec": {
   "display_name": "Python 3 (ipykernel)",
   "language": "python",
   "name": "python3"
  },
  "language_info": {
   "codemirror_mode": {
    "name": "ipython",
    "version": 3
   },
   "file_extension": ".py",
   "mimetype": "text/x-python",
   "name": "python",
   "nbconvert_exporter": "python",
   "pygments_lexer": "ipython3",
   "version": "3.11.7"
  }
 },
 "nbformat": 4,
 "nbformat_minor": 4
}
